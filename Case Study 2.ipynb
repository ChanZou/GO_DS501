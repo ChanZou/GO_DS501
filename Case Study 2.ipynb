{
 "metadata": {
  "name": "",
  "signature": "sha256:e37f945622e0f62612eaeab521553845b657eeb514418f567624a93897dd796b"
 },
 "nbformat": 3,
 "nbformat_minor": 0,
 "worksheets": [
  {
   "cells": [
    {
     "cell_type": "markdown",
     "metadata": {},
     "source": [
      "#Case Study 2 : MoneyBall: data science in sports games\n",
      "** Due Date: October 7, before the class**\n",
      "\n",
      "\n",
      "<a href=\"https://www.youtube.com/watch?v=AiAHlZVgXjk\"> <img src=\"http://ia.media-imdb.com/images/M/MV5BMjAxOTU3Mzc1M15BMl5BanBnXkFtZTcwMzk1ODUzNg@@._V1_SX640_SY720_.jpg\" width=\"300px\"> </a>\n",
      "*------------"
     ]
    },
    {
     "cell_type": "heading",
     "level": 1,
     "metadata": {},
     "source": [
      "Background & Motivation"
     ]
    },
    {
     "cell_type": "markdown",
     "metadata": {},
     "source": [
      "<img src=\"https://upload.wikimedia.org/wikipedia/commons/a/ae/MONEYBALLchart.png\" width=\"800\">\n",
      "\n",
      "The central premise of ''Moneyball'' is that the collected wisdom of baseball insiders (including players, managers, coaches, scouts, and the front office) over the past century is subjective and often flawed. Statistics such as stolen bases, run batted in|runs batted in, and batting average, typically used to gauge players, are relics of a 19th century view of the game and the statistics that were available at the time. The book argues that the Oakland A's' front office took advantage of more analytical gauges of player performance to field a team that could compete successfully against richer competitors in Major League Baseball (MLB).\n",
      "\n",
      "Rigorous statistical analysis had demonstrated that on-base percentage and slugging percentage are better indicators of offensive success, and the A's became convinced that these qualities were cheaper to obtain on the open market than more historically valued qualities such as speed and contact. These observations often flew in the face of conventional baseball wisdom and the beliefs of many baseball scouts and executives.\n",
      "\n",
      "* By re-evaluating the strategies that produce wins on the field, the 2002 Oakland Athletics, with approximately \\$41 million in salary, were competitive with larger market teams such as the New York Yankees, who spent over $125 million in payroll that same season. Because of the team's smaller revenues, Oakland is forced to find players undervalued by the market, and their system for finding value in undervalued players has proven itself thus far.\n",
      "\n",
      "Several themes Lewis explored in the book include: insiders vs. outsiders (established traditionalists vs. upstart proponents of sabermetrics), the democratization of information causing a flattening of hierarchies, and \"the ruthless drive for efficiency that capitalism demands.\" The book also touches on Oakland's underlying economic need to stay ahead of the curve; as other teams begin mirroring Beane's strategies to evaluate offensive talent, diminishing the Athletics' advantage, Oakland begins looking for other undervalued baseball skills such as defensive capabilities.\n",
      "\n",
      "''Moneyball'' also touches on the A's methods of prospect selection. Sabermetricians argue that a college baseball player's chance of MLB success is much higher than a traditional high school draft pick. Beane maintains that high draft picks spent on high school prospects, regardless of talent or physical potential as evaluated by traditional scouting, are riskier than if they were spent on more polished college players. Lewis cites A's minor leaguer Jeremy Bonderman, drafted out of high school in 2001 over Beane's objections, as but one example of precisely the type of draft pick Beane would avoid. Bonderman had all of the traditional \"tools\" that scouts look for, but thousands of such players have been signed by MLB organizations out of high school over the years and failed to develop. Lewis explores the A's approach to the 2002 MLB Draft, when the team had a nearly unprecedented run of early picks. The book documents Beane's often-tense discussions with his scouting staff (who  favored traditional subjective evaluation of potential rather than objective sabermetrics) in preparation for the draft to the actual draft, which defied all expectations and was considered at the time a wildly successful (if unorthodox) effort by Beane.\n",
      "\n",
      "* In addition, ''Moneyball'' traces the history of the sabermetric movement back to such people as Bill James (now a member of the Boston Red Sox front office) and Craig R. Wright. Lewis explores how James' seminal ''Baseball Abstract'', an annual publication that was published from the late 1970s through the late 1980s, influenced many of the young, up-and-coming baseball minds that are now joining the ranks of baseball management.\n",
      "\n",
      "''Moneyball'' has made such an impact in professional baseball that the term itself has entered the lexicon of baseball. Teams which appear to value the concepts of sabermetrics are often said to be playing \"''Moneyball''.\" Baseball traditionalists, in particular some scouts and media members, decry the sabermetric revolution and have disparaged ''Moneyball'' for emphasizing concepts of sabermetrics over more traditional methods of player evaluation. Nevertheless, the impact of ''Moneyball'' upon major league front offices is undeniable. \n",
      "*In its wake, teams such as the New York Mets, New York Yankees, San Diego Padres, St. Louis Cardinals, Boston Red Sox, Washington Nationals, Arizona Diamondbacks, Cleveland Indians, (http://www.baseballprospectus.com/article.php?articleid=6187 - Aim For The Head: Aim For the Front Office) and the Toronto Blue Jays  have hired full-time sabermetric data scientists. \n",
      "Since the book's publication and success, Lewis has discussed plans for a sequel to ''Moneyball'' called ''Underdogs'', revisiting the players and their relative success several years into their careers. When the New York Mets hired Sandy Alderson &ndash; Beane's predecessor and mentor with the A's &ndash; as their general manager after the 2010 season, and hired Beane's former associates Paul DePodesta  and J.P. Ricciardi to the front office, the team became known as the \"Moneyball Mets\".(http://nymag.com/news/sports/games/sandy-alderson-2011-4/  The Moneyball Mets) Michael Lewis has acknowledged that the book's success may have negatively affected the Athletics' fortunes as other teams have accepted the use of sabermetrics, reducing the edge that Oakland received from using sabermetric-based evaluations. (http://www.sfgate.com/cgi-bin/article.cgi?f=/c/a/2011/09/18/SP3J1L571K.DTL&ao=all Michael Lewis on A's 'Moneyball' legacy)\n",
      "\n",
      "\n",
      "-- Cited from https://en.wikibooks.org/wiki/Data_Science:_An_Introduction/The_Impact_of_Data_Science"
     ]
    },
    {
     "cell_type": "code",
     "collapsed": false,
     "input": [
      "from IPython.display import YouTubeVideo\n",
      "YouTubeVideo(\"WNlCBy07z08\")"
     ],
     "language": "python",
     "metadata": {},
     "outputs": [
      {
       "html": [
        "\n",
        "        <iframe\n",
        "            width=\"400\"\n",
        "            height=300\"\n",
        "            src=\"https://www.youtube.com/embed/WNlCBy07z08\"\n",
        "            frameborder=\"0\"\n",
        "            allowfullscreen\n",
        "        ></iframe>\n",
        "        "
       ],
       "metadata": {},
       "output_type": "pyout",
       "prompt_number": 6,
       "text": [
        "<IPython.lib.display.YouTubeVideo at 0x10a6233d0>"
       ]
      }
     ],
     "prompt_number": 6
    },
    {
     "cell_type": "code",
     "collapsed": false,
     "input": [
      "YouTubeVideo(\"zjU7R-6ShdE\")"
     ],
     "language": "python",
     "metadata": {},
     "outputs": [
      {
       "html": [
        "\n",
        "        <iframe\n",
        "            width=\"400\"\n",
        "            height=300\"\n",
        "            src=\"https://www.youtube.com/embed/zjU7R-6ShdE\"\n",
        "            frameborder=\"0\"\n",
        "            allowfullscreen\n",
        "        ></iframe>\n",
        "        "
       ],
       "metadata": {},
       "output_type": "pyout",
       "prompt_number": 2,
       "text": [
        "<IPython.lib.display.YouTubeVideo at 0x10ba243d0>"
       ]
      }
     ],
     "prompt_number": 2
    },
    {
     "cell_type": "code",
     "collapsed": false,
     "input": [
      "YouTubeVideo(\"nK1jtVhimPA\")"
     ],
     "language": "python",
     "metadata": {},
     "outputs": [
      {
       "html": [
        "\n",
        "        <iframe\n",
        "            width=\"400\"\n",
        "            height=300\"\n",
        "            src=\"https://www.youtube.com/embed/nK1jtVhimPA\"\n",
        "            frameborder=\"0\"\n",
        "            allowfullscreen\n",
        "        ></iframe>\n",
        "        "
       ],
       "metadata": {},
       "output_type": "pyout",
       "prompt_number": 3,
       "text": [
        "<IPython.lib.display.YouTubeVideo at 0x10ba24b50>"
       ]
      }
     ],
     "prompt_number": 3
    },
    {
     "cell_type": "code",
     "collapsed": false,
     "input": [
      "YouTubeVideo(\"AxsNitIS9E8\")"
     ],
     "language": "python",
     "metadata": {},
     "outputs": [
      {
       "html": [
        "\n",
        "        <iframe\n",
        "            width=\"400\"\n",
        "            height=300\"\n",
        "            src=\"https://www.youtube.com/embed/AxsNitIS9E8\"\n",
        "            frameborder=\"0\"\n",
        "            allowfullscreen\n",
        "        ></iframe>\n",
        "        "
       ],
       "metadata": {},
       "output_type": "pyout",
       "prompt_number": 2,
       "text": [
        "<IPython.lib.display.YouTubeVideo at 0x1092ad3d0>"
       ]
      }
     ],
     "prompt_number": 2
    },
    {
     "cell_type": "markdown",
     "metadata": {},
     "source": [
      "--------------\n",
      "**TEAM Members:** Please EDIT this cell and add the names of all the team members in your team\n",
      "\n",
      "    member 1\n",
      "    \n",
      "    member 2\n",
      "    \n",
      "    ..."
     ]
    },
    {
     "cell_type": "markdown",
     "metadata": {},
     "source": [
      "**Desired outcome of the case study.**\n",
      "* In this case study we will look at the NBA Data from http://stats.nba.com.\n",
      "    * It contains data about players, game details and statistics.\n",
      "* The idea is to *analyze* the data set, make *conjectures*, support or refute those conjectures with *data*, and *tell a story* about the data!\n",
      "    \n",
      "**Required Readings:** \n",
      "* http://savvastjortjoglou.com/nba-play-by-play-movements.html\n",
      "* http://savvastjortjoglou.com/nba-shot-sharts.html\n",
      "\n",
      "**Case study assumptions:**\n",
      "* You have access to a python installation\n",
      "\n",
      "**Required Python libraries:**\n",
      "* Pandas (pandas.pydata.org)\n",
      "* Matplotlib (matplotlib.org)\n",
      "* py-Goldsberry (https://github.com/bradleyfay/py-Goldsberry)\n",
      "* requests (http://www.python-requests.org/en/latest/)\n",
      "* seaborn (http://stanford.edu/~mwaskom/software/seaborn/)\n",
      "* nbastats (https://github.com/bradleyfay/NBAStats)\n",
      "* If you need help installing them then you can refer to Chapter 1 of Python for Data Analysis book\n",
      "\n",
      "** NOTE **\n",
      "* Please don't forget to save the notebook frequently when working in IPython Notebook, otherwise the changes you made can be lost.\n",
      "\n",
      "*----------------------"
     ]
    },
    {
     "cell_type": "heading",
     "level": 1,
     "metadata": {},
     "source": [
      "Problem 1: Collecting data about NBA players (5 points)"
     ]
    },
    {
     "cell_type": "markdown",
     "metadata": {},
     "source": [
      "* use py-Goldsberry (https://github.com/bradleyfay/py-Goldsberry) tool to get a list of NBA players's information, such as names and player IDs\n",
      "* Load the player's information into a data frame in pandas package (pandas.pydata.org)\n",
      "* You could choose to download the list players of only one year or of all years.\n",
      "* Show/print the top 20 players in the list"
     ]
    },
    {
     "cell_type": "code",
     "collapsed": false,
     "input": [
      "import goldsberry\n",
      "import pandas as pd\n",
      "\n",
      "#-------------------------------\n",
      "# Your code goes here.\n",
      "# Add as many cells as you need\n",
      "#-------------------------------\n",
      "\n",
      "\n",
      "\n",
      "\n"
     ],
     "language": "python",
     "metadata": {},
     "outputs": [],
     "prompt_number": 1
    },
    {
     "cell_type": "heading",
     "level": 1,
     "metadata": {},
     "source": [
      "Problem 2: Shot Chart of the Player (15 points)"
     ]
    },
    {
     "cell_type": "markdown",
     "metadata": {},
     "source": [
      "* Select a player that you are interested in, for example, \"Yao Ming\", or \"Carmelo Anthony\". You can get the player's ID from the data in Problem 1.\n",
      "* Edit this cell and get the photo of the player from NBA stats website based upon the player id.\n",
      "\n",
      "For example:<br>\n",
      "\n",
      "<img src=\"http://stats.nba.com/media/players/230x185/2546.png\" width=\"200px\">\n",
      "\n",
      "* Use NBA Shot API of nbastats library to collect the shot data of the player. \n",
      "* show the top 20 rows of the list.\n",
      "\n"
     ]
    },
    {
     "cell_type": "code",
     "collapsed": false,
     "input": [
      "%matplotlib inline\n",
      "import nbastats.nbastats as nbastats\n",
      "\n",
      "#-------------------------------\n",
      "# Your code goes here.\n",
      "# Add as many cells as you need\n",
      "#-------------------------------\n",
      "\n"
     ],
     "language": "python",
     "metadata": {},
     "outputs": [],
     "prompt_number": 2
    },
    {
     "cell_type": "markdown",
     "metadata": {},
     "source": [
      "* plot the player's shot data points in a figure "
     ]
    },
    {
     "cell_type": "code",
     "collapsed": false,
     "input": [
      "import matplotlib.pyplot as plt\n",
      "import pandas as pd\n",
      "import seaborn as sns\n",
      "\n",
      "#-------------------------------\n",
      "# Your code goes here.\n",
      "# Add as many cells as you need\n",
      "#-------------------------------\n",
      "\n"
     ],
     "language": "python",
     "metadata": {},
     "outputs": [],
     "prompt_number": 3
    },
    {
     "cell_type": "markdown",
     "metadata": {},
     "source": [
      "* plot the distribution of shots in the court in another figure using bar plot, heat map, etc."
     ]
    },
    {
     "cell_type": "code",
     "collapsed": false,
     "input": [
      "#-------------------------------\n",
      "# Your code goes here.\n",
      "# Add as many cells as you need\n",
      "#-------------------------------\n",
      "\n",
      "\n",
      "\n"
     ],
     "language": "python",
     "metadata": {},
     "outputs": [],
     "prompt_number": 5
    },
    {
     "cell_type": "heading",
     "level": 1,
     "metadata": {},
     "source": [
      "Problem 3: Game Moments (20 points)"
     ]
    },
    {
     "cell_type": "markdown",
     "metadata": {},
     "source": [
      "* from the list in question 2, select one of the shots by the player, which you liked the most. Remember the GAME_ID and game_event_id of the shot.\n",
      "* use the the GAME_ID and game_event_id to show the animation of the moment of the game.\n"
     ]
    },
    {
     "cell_type": "code",
     "collapsed": false,
     "input": [
      "from IPython.display import IFrame\n",
      "#-------------------------------\n",
      "# Your code goes here.\n",
      "# Add as many cells as you need\n",
      "#-------------------------------\n",
      "\n",
      "# Here is an example, please change it according to your game id and event id.\n",
      "IFrame('http://stats.nba.com/movement/#!/?GameID=0021400007&GameEventID=116',\n",
      "              width=700, height=400)"
     ],
     "language": "python",
     "metadata": {},
     "outputs": [
      {
       "html": [
        "\n",
        "        <iframe\n",
        "            width=\"700\"\n",
        "            height=400\"\n",
        "            src=\"http://stats.nba.com/movement/#!/?GameID=0021400007&GameEventID=116\"\n",
        "            frameborder=\"0\"\n",
        "            allowfullscreen\n",
        "        ></iframe>\n",
        "        "
       ],
       "metadata": {},
       "output_type": "pyout",
       "prompt_number": 18,
       "text": [
        "<IPython.lib.display.IFrame at 0x107936290>"
       ]
      }
     ],
     "prompt_number": 18
    },
    {
     "cell_type": "markdown",
     "metadata": {},
     "source": [
      "* Download the movement data of all the players in this game event.\n",
      "* load the data into a pandas data frame\n",
      "* create a  list containing the movement data for each player and the ball."
     ]
    },
    {
     "cell_type": "code",
     "collapsed": false,
     "input": [
      "import requests\n",
      "\n",
      "#-------------------------------\n",
      "# Your code goes here.\n",
      "# Add as many cells as you need\n",
      "#-------------------------------\n",
      "# Here is an example of the URL, please change it according to your game id and event id.\n",
      "url = \"http://stats.nba.com/stats/locations_getmoments/?eventid=308&gameid=0041400235\"\n",
      "\n",
      "\n"
     ],
     "language": "python",
     "metadata": {},
     "outputs": [],
     "prompt_number": 4
    },
    {
     "cell_type": "markdown",
     "metadata": {},
     "source": [
      "* Plotting the Movements: plot the player's movements throughout the event in a figure."
     ]
    },
    {
     "cell_type": "code",
     "collapsed": false,
     "input": [
      "#-------------------------------\n",
      "# Your code goes here.\n",
      "# Add as many cells as you need\n",
      "#-------------------------------\n",
      "\n",
      "\n",
      "\n",
      "\n",
      "\n"
     ],
     "language": "python",
     "metadata": {},
     "outputs": [],
     "prompt_number": 26
    },
    {
     "cell_type": "markdown",
     "metadata": {},
     "source": [
      "* Compute some basic statistics of the players: distance traveled, average running speed, average distances from other players\n"
     ]
    },
    {
     "cell_type": "code",
     "collapsed": false,
     "input": [
      "#-------------------------------\n",
      "# Your code goes here.\n",
      "# Add as many cells as you need\n",
      "#-------------------------------\n",
      "\n",
      "\n",
      "\n"
     ],
     "language": "python",
     "metadata": {},
     "outputs": [],
     "prompt_number": 29
    },
    {
     "cell_type": "markdown",
     "metadata": {},
     "source": [
      "* Take a close look at the exact second when the player scored, plot a figure to show the distance between the player and the ball in that second\n",
      "* draw a vertical line in the figure, indicating the approximate moment of the ball arrive/leave the player's hand.\n"
     ]
    },
    {
     "cell_type": "code",
     "collapsed": false,
     "input": [
      "#-------------------------------\n",
      "# Your code goes here.\n",
      "# Add as many cells as you need\n",
      "#-------------------------------\n",
      "\n",
      "\n"
     ],
     "language": "python",
     "metadata": {},
     "outputs": [],
     "prompt_number": 31
    },
    {
     "cell_type": "markdown",
     "metadata": {},
     "source": [
      "* Compute some statistics of the game moment and use these results to plot a figure and tell a story about why/how the player/team successfully scored in that moment."
     ]
    },
    {
     "cell_type": "code",
     "collapsed": false,
     "input": [
      "#-------------------------------\n",
      "# Your code goes here.\n",
      "# Add as many cells as you need\n",
      "#-------------------------------\n",
      "\n",
      "\n",
      "\n"
     ],
     "language": "python",
     "metadata": {},
     "outputs": [],
     "prompt_number": 1
    },
    {
     "cell_type": "markdown",
     "metadata": {},
     "source": [
      "*------------------------\n",
      "\n",
      "#Problem 4: Explore the data  (20 points)\n",
      "\n",
      "Run some additional experiments with the NBA data and the API.\n",
      "For example, \n",
      "* can you put together of a team of best players, based upon their statistical data.\n",
      "* Which team do you predict that will win the next NBA finals based upon the historical data of the players and the team.\n",
      "* Can you predict the NBA all-star team, based upon their performance data in the season?\n",
      "\n",
      "Define your own interesting question, collect the related data, compute the statistics, and visualize the results."
     ]
    },
    {
     "cell_type": "code",
     "collapsed": false,
     "input": [
      "#-------------------------------\n",
      "# Your code goes here.\n",
      "# Add as many cells as you need\n",
      "#-------------------------------\n",
      "\n",
      "\n",
      "\n",
      "\n"
     ],
     "language": "python",
     "metadata": {},
     "outputs": [],
     "prompt_number": 34
    },
    {
     "cell_type": "heading",
     "level": 1,
     "metadata": {},
     "source": [
      "Bonus Question in Presentation Slides (10 points)\n"
     ]
    },
    {
     "cell_type": "markdown",
     "metadata": {},
     "source": [
      "* Watch the movie Moneyball. While watching, take brief notes on how data science made a difference to the characters in the movie. After the movie is over, brainstorm as a group, other areas of life where data science could make a difference. Speculate on the arguments opponents of data science might make to using data science. Pick one for further consideration. As a group, create a 4 slide presentation that introduces the area of life you picked; how data science would make a difference; what the counter-arguments are; and whether or not your group thinks, in the end, it would be a good idea to introduce data science into that area of life. "
     ]
    },
    {
     "cell_type": "markdown",
     "metadata": {},
     "source": [
      "*-----------------\n",
      "# Done\n",
      "\n",
      "All set! \n",
      "\n",
      "** What do you need to submit?**\n",
      "\n",
      "* **Notebook File**: Save this IPython notebook, and find the notebook file in your folder (for example, \"filename.ipynb\"). This is the file you need to submit. Please make sure all the plotted tables and figures are in the notebook. \n",
      "\n",
      "\n",
      "* **PPT Slides**: please prepare PPT slides (for 10 minutes' talk) to present about the case study . We will ask two teams which are randomly selected to present their case studies in class for this case study. \n",
      "\n",
      "* ** Report**: please prepare a report (less than 10 pages) to report what you found in the data.\n",
      "    * What data you collected? \n",
      "    * Why this player/team/problem is interesting or important to you? (Motivations)\n",
      "    * How did you analyse the data?\n",
      "    * What did you find in the data? \n",
      " \n",
      "     (please include figures or tables in the report, but no source code)\n",
      "\n",
      "Please compress all the files in a zipped file.\n",
      "\n"
     ]
    },
    {
     "cell_type": "markdown",
     "metadata": {},
     "source": [
      "# Grading Criteria:\n",
      "\n",
      "** Totoal Points: 100 **\n",
      "\n",
      "\n",
      "---------------------------------------------------------------------------\n",
      "** Notebook:  **\n",
      "    Points: 60\n",
      "\n",
      "\n",
      "    -----------------------------------\n",
      "    Qestion 1:\n",
      "    Points: 5\n",
      "    -----------------------------------\n",
      "    \n",
      "\n",
      "    -----------------------------------\n",
      "    Qestion 2:\n",
      "    Points: 15\n",
      "    -----------------------------------\n",
      "    \n",
      "    \n",
      "    -----------------------------------\n",
      "    Qestion 3:\n",
      "    Points: 20\n",
      "    -----------------------------------\n",
      "    \n",
      "    -----------------------------------\n",
      "    Problem 4: \n",
      "    Points: 20\n",
      "    -----------------------------------\n",
      "  \n",
      "\n",
      "---------------------------------------------------------------------------\n",
      "** Report: communicate the results**\n",
      "    Points: 20\n",
      "\n",
      "(1) What data you collected?\n",
      "    Points: 5 \n",
      "\n",
      "(2) Why this problem/player/team/game moment is interesting or important to you? (Motivations)\n",
      "    Points: 5 \n",
      "\n",
      "(3) How did you analyse the data?\n",
      "    Points: 5 \n",
      "\n",
      "(4) What did you find in the data?\n",
      "(please include figures or tables in the report, but no source code)\n",
      "    Points: 5 \n",
      "\n",
      "\n",
      "\n",
      "---------------------------------------------------------------------------\n",
      "** Slides (for 10 minutes of presentation): Story-telling **\n",
      "    Points: 20\n",
      "\n",
      "\n",
      "1. Motivation about the data collection, why the problem/player/team/game moment is interesting to you.\n",
      "    Points: 5 \n",
      "\n",
      "2. Communicating Results (figure/table)\n",
      "    Points: 10 \n",
      "\n",
      "3. Story telling (How all the parts (data, analysis, result) fit together as a story?)\n",
      "    Points: 5 \n",
      "\n"
     ]
    },
    {
     "cell_type": "code",
     "collapsed": false,
     "input": [],
     "language": "python",
     "metadata": {},
     "outputs": []
    }
   ],
   "metadata": {}
  }
 ]
}